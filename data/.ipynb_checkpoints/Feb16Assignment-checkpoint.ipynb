{
 "cells": [
  {
   "cell_type": "code",
   "execution_count": 18,
   "metadata": {
    "collapsed": true
   },
   "outputs": [],
   "source": [
    "#!/bin/env python\n",
    "# Feb16_Tokenizing.py\n",
    "# IEOR242 Applications in Data Analytics \n",
    "# Feb 14 2016"
   ]
  },
  {
   "cell_type": "code",
   "execution_count": 11,
   "metadata": {
    "collapsed": true
   },
   "outputs": [],
   "source": [
    "import nltk\n",
    "from nltk.corpus import stopwords\n",
    "import pandas as pd"
   ]
  },
  {
   "cell_type": "code",
   "execution_count": 9,
   "metadata": {
    "collapsed": true
   },
   "outputs": [],
   "source": [
    "# Import Dictionary\n",
    "Library = pd.DataFrame(pd.read_csv(\"../data/LoughranMcDonald_MasterDictionary_2014.csv\"))"
   ]
  },
  {
   "cell_type": "code",
   "execution_count": 6,
   "metadata": {
    "collapsed": true
   },
   "outputs": [],
   "source": [
    "# PATHS to our scrapped 10K files\n",
    "CP2012_MDNA = \"../data/company10k/CP2012_MDNA.txt\"\n",
    "CP2013_MDNA = \"../data/company10k/../data/company10k/company10k/CP2013_MDNA.txt\"\n",
    "CP2014_MDNA = \"../data/company10k/company10k/CP2014_MDNA.txt\"\n",
    "PG2012_MDNA = \"../data/company10k/company10k/PG2012_MDNA.txt\"\n",
    "PG2013_MDNA = \"../data/company10k/company10k/PG2013_MDNA.txt\""
   ]
  },
  {
   "cell_type": "code",
   "execution_count": 13,
   "metadata": {
    "collapsed": true
   },
   "outputs": [],
   "source": [
    "MDNA = open(CP2012_MDNA).read().decode('utf8')"
   ]
  },
  {
   "cell_type": "code",
   "execution_count": 15,
   "metadata": {
    "collapsed": false
   },
   "outputs": [],
   "source": [
    "WORDTOKEN = nltk.word_tokenize(MDNA)"
   ]
  },
  {
   "cell_type": "code",
   "execution_count": 17,
   "metadata": {
    "collapsed": false
   },
   "outputs": [
    {
     "data": {
      "text/plain": [
       "[u'ITEM',\n",
       " u'7',\n",
       " u'.',\n",
       " u'MANAGEMENT\\u2019S',\n",
       " u'DISCUSSION',\n",
       " u'AND',\n",
       " u'ANALYSIS',\n",
       " u'OF',\n",
       " u'FINANCIAL',\n",
       " u'CONDITION',\n",
       " u'AND',\n",
       " u'RESULTS',\n",
       " u'OF',\n",
       " u'OPERATIONS',\n",
       " u'Executive',\n",
       " u'Overview',\n",
       " u'and',\n",
       " u'Outlook',\n",
       " u'Colgate-Palmolive',\n",
       " u'Company',\n",
       " u'seeks',\n",
       " u'to',\n",
       " u'deliver',\n",
       " u'strong',\n",
       " u',',\n",
       " u'consistent',\n",
       " u'business',\n",
       " u'results',\n",
       " u'and',\n",
       " u'superior',\n",
       " u'shareholder',\n",
       " u'returns',\n",
       " u'by',\n",
       " u'providing',\n",
       " u'consumers',\n",
       " u'globally',\n",
       " u'with',\n",
       " u'products',\n",
       " u'that',\n",
       " u'make',\n",
       " u'their',\n",
       " u'lives',\n",
       " u'healthier',\n",
       " u'and',\n",
       " u'more',\n",
       " u'enjoyable',\n",
       " u'.',\n",
       " u'To',\n",
       " u'this',\n",
       " u'end']"
      ]
     },
     "execution_count": 17,
     "metadata": {},
     "output_type": "execute_result"
    }
   ],
   "source": [
    "WORDTOKEN[0:50]"
   ]
  },
  {
   "cell_type": "code",
   "execution_count": null,
   "metadata": {
    "collapsed": true
   },
   "outputs": [],
   "source": []
  }
 ],
 "metadata": {
  "kernelspec": {
   "display_name": "Python 2",
   "language": "python",
   "name": "python2"
  },
  "language_info": {
   "codemirror_mode": {
    "name": "ipython",
    "version": 2
   },
   "file_extension": ".py",
   "mimetype": "text/x-python",
   "name": "python",
   "nbconvert_exporter": "python",
   "pygments_lexer": "ipython2",
   "version": "2.7.10"
  }
 },
 "nbformat": 4,
 "nbformat_minor": 0
}
